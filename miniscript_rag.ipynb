{
 "cells": [
  {
   "cell_type": "markdown",
   "metadata": {},
   "source": [
    "# Miniscript RAG\n",
    "\n",
    "Load a FAISS vector database with the Miniscript wiki content."
   ]
  },
  {
   "cell_type": "code",
   "execution_count": null,
   "metadata": {},
   "outputs": [],
   "source": [
    "# Install prerequisites.\n",
    "\n",
    "%pip install boto3 --quiet\n",
    "%pip install docx2txt --quiet\n",
    "%pip install langchain --quiet\n",
    "%pip install pydantic==1.10.13 --quiet\n",
    "%pip install pypdf==3.8.1 faiss-cpu==1.7.4 --quiet\n",
    "%pip install python-docx --quiet\n",
    "%pip install sqlalchemy==2.0.21 --quiet\n",
    "%pip install tiktoken==0.4.0 --quiet\n",
    "#%pip install faiss-cpu==1.7.4 # For CPU Installation\n",
    "%pip install faiss-gpu # For CUDA 7.5+ Supported GPU's."
   ]
  },
  {
   "cell_type": "code",
   "execution_count": null,
   "metadata": {},
   "outputs": [],
   "source": [
    "# Import all the things.\n",
    "\n",
    "import docx\n",
    "from langchain.chains import RetrievalQA\n",
    "from langchain.document_loaders import TextLoader\n",
    "from langchain.document_loaders import PyPDFLoader\n",
    "from langchain.embeddings import BedrockEmbeddings\n",
    "from langchain.indexes.vectorstore import VectorStoreIndexWrapper\n",
    "from langchain.llms.bedrock import Bedrock\n",
    "from langchain.prompts import PromptTemplate\n",
    "from langchain.text_splitter import RecursiveCharacterTextSplitter\n",
    "from langchain.vectorstores import FAISS\n",
    "import numpy as np\n",
    "import os\n",
    "import shutil\n",
    "import sys\n",
    "import time\n",
    "from utils.TokenCounterHandler import TokenCounterHandler\n",
    "import zipfile\n",
    "from IPython.display import display, FileLink, FileLinks, Markdown"
   ]
  },
  {
   "cell_type": "code",
   "execution_count": 26,
   "metadata": {},
   "outputs": [],
   "source": [
    "# Load from this location.\n",
    "\n",
    "data_path = './data/docs'\n",
    "aws_profile_name = 'sandbox'\n",
    "\n",
    "# Setting this to true will force the vector database to be regenerated on each run.\n",
    "# Setting it to false will try and load the database from a file.\n",
    "rebuild_database = True"
   ]
  },
  {
   "cell_type": "code",
   "execution_count": null,
   "metadata": {},
   "outputs": [],
   "source": [
    "# Chunk the files.\n",
    "\n",
    "files = []\n",
    "\n",
    "# Recursively search for files in the data path.\n",
    "for foldername, subfolders, filenames in os.walk(data_path):\n",
    "    for filename in filenames:\n",
    "        if not filename.endswith('.txt') and not filename.endswith('.md') and not filename.endswith('.pdf') and not filename.endswith(\".ms\"):\n",
    "            continue\n",
    "\n",
    "        path = os.path.join(foldername, filename)\n",
    "\n",
    "        if filename.endswith(\".ms\"):\n",
    "            subject = f\"Source code example: {filename.split('.')[0]}\"\n",
    "        else:\n",
    "            subject = f\"Documentation: {filename.split('.')[0]}\"\n",
    "\n",
    "        # Generate a metadata dictionary for the document.\n",
    "        files.append({\n",
    "            'path': path,\n",
    "            'subject': subject,\n",
    "            'modified_date': time.ctime(os.path.getmtime(path)),\n",
    "        })\n",
    "\n",
    "# Chunk the documents so that each chunk has a max of 512 tokens; roughly 2000 characters.\n",
    "\n",
    "documents = []\n",
    "\n",
    "for idx, file in enumerate(files):\n",
    "    if file['path'].endswith('.pdf'):\n",
    "        loader = PyPDFLoader(file['path'])\n",
    "    else:\n",
    "        loader = TextLoader(file['path'])\n",
    "    document = loader.load()\n",
    "    for document_fragment in document:\n",
    "        document_fragment.metadata = file\n",
    "        \n",
    "    print(f'{len(document)} {document}\\n')\n",
    "    documents += document\n",
    "\n",
    "# - in our testing Character split works better with this PDF data set\n",
    "text_splitter = RecursiveCharacterTextSplitter(\n",
    "    # Set a really small chunk size, just to show.\n",
    "    chunk_size = 2000,\n",
    "    chunk_overlap  = 200,\n",
    ")\n",
    "\n",
    "docs = text_splitter.split_documents(documents)\n",
    "\n",
    "avg_doc_length = lambda documents: sum([len(doc.page_content) for doc in documents])//len(documents)\n",
    "print(f'Average length among {len(documents)} documents loaded is {avg_doc_length(documents)} characters.')\n",
    "print(f'After the split we have {len(docs)} documents as opposed to the original {len(documents)}.')\n",
    "print(f'Average length among {len(docs)} documents (after split) is {avg_doc_length(docs)} characters.')"
   ]
  },
  {
   "cell_type": "code",
   "execution_count": 25,
   "metadata": {},
   "outputs": [
    {
     "name": "stdout",
     "output_type": "stream",
     "text": [
      "Create new client\n",
      "  Using region: None\n",
      "  Using profile: sandbox\n",
      "boto3 Bedrock client successfully created!\n",
      "bedrock-runtime(https://bedrock-runtime.us-east-1.amazonaws.com)\n",
      "Sample embedding of a document chunk:  [ 0.16768362  0.24264549 -0.09052806 ...  0.05101648 -0.57257926\n",
      "  0.5195598 ]\n",
      "Size of the embedding:  (1536,)\n",
      "Generating the vector store.  This may take some time.\n"
     ]
    }
   ],
   "source": [
    "# Generate the database.  If necessary.\n",
    "#os.environ['BEDROCK_ASSUME_ROLE'] = '<YOUR_VALUES>'\n",
    "os.environ['AWS_PROFILE'] = aws_profile_name\n",
    "\n",
    "module_path = \"..\"\n",
    "sys.path.append(os.path.abspath(module_path))\n",
    "from utils import bedrock, print_ww\n",
    "\n",
    "bedrock_client = bedrock.get_bedrock_client(\n",
    "    assumed_role=os.environ.get(\"BEDROCK_ASSUME_ROLE\", None),\n",
    "    region=os.environ.get(\"AWS_DEFAULT_REGION\", None),\n",
    "    runtime=True # Default. Needed for invoke_model() from the data plane\n",
    ")\n",
    "\n",
    "token_counter = TokenCounterHandler()\n",
    "\n",
    "# Create the Anthropic Model.\n",
    "llm = Bedrock(model_id=\"anthropic.claude-v2\", \n",
    "              client=bedrock_client, \n",
    "              model_kwargs={\n",
    "                  'max_tokens_to_sample': 1000\n",
    "              }, \n",
    "              callbacks=[token_counter])\n",
    "\n",
    "# Create the Titan Embeddings Model.\n",
    "bedrock_embeddings = BedrockEmbeddings(model_id=\"amazon.titan-embed-text-v1\",\n",
    "                                       client=bedrock_client)\n",
    "\n",
    "sample_embedding = np.array(bedrock_embeddings.embed_query(docs[0].page_content))\n",
    "print(\"Sample embedding of a document chunk: \", sample_embedding)\n",
    "print(\"Size of the embedding: \", sample_embedding.shape)\n",
    "\n",
    "db_path = os.path.join(data_path, 'miniscript.vdb')\n",
    "if rebuild_database or not os.path.exists(db_path):\n",
    "    print(\"Generating the vector store.  This may take some time.\")\n",
    "    vectorstore_faiss = FAISS.from_documents(\n",
    "        docs,\n",
    "        bedrock_embeddings,\n",
    "    )\n",
    "    vectorstore_faiss.save_local(db_path)\n",
    "else:\n",
    "    vectorstore_faiss = FAISS.load_local(db_path, bedrock_embeddings)\n",
    "\n",
    "wrapper_store_faiss = VectorStoreIndexWrapper(vectorstore=vectorstore_faiss)\n",
    "\n",
    "def ask(query):\n",
    "    prompt_template = \"\"\"Human: Here is a set of context, contained in <context> tags:\n",
    "\n",
    "<context>\n",
    "{context}\n",
    "</context>\n",
    "\n",
    "Use the context to provide an answer to the question at the end.\n",
    "Forget anything you know about Python or Javascript.  Miniscript is the only language you know.\n",
    "If you don't know the answer, use any other knowledge you found to figure out an answer that conforms to Miniscript syntax.\n",
    "All code examples must use Miniscript syntax.  You may only import libraries found in the Miniscript documentation.\n",
    "Your answer must be nicely formatted using Markdown.\n",
    "\n",
    "Provide code examples using Miniscript syntax demonstrating how to perform the requested action.\n",
    "\n",
    "{question}\n",
    "\n",
    "Assistant:\"\"\"\n",
    "\n",
    "    PROMPT = PromptTemplate(\n",
    "        template=prompt_template, input_variables=[\"context\", \"question\"]\n",
    "    )\n",
    "\n",
    "    filter = {}\n",
    "\n",
    "    qa = RetrievalQA.from_chain_type(\n",
    "        llm=llm,\n",
    "        chain_type=\"stuff\",\n",
    "        retriever=vectorstore_faiss.as_retriever(\n",
    "            search_type=\"similarity\",\n",
    "            search_kwargs={\"k\": 50, \"filter\": filter},\n",
    "            callbacks=[token_counter]\n",
    "        ),\n",
    "        return_source_documents=True,\n",
    "        chain_type_kwargs={\"prompt\": PROMPT},\n",
    "        callbacks=[token_counter]\n",
    "    )\n",
    "\n",
    "    result = qa({\"query\": query})\n",
    "\n",
    "    # print(f'Query: {result[\"query\"]}\\n')\n",
    "    # print(f'Result: {result[\"result\"]}\\n')\n",
    "    # print(f'Context Documents: ')\n",
    "\n",
    "    display(Markdown(result['result']))\n",
    "    # display(Markdown('---\\n# Sources'))\n",
    "    # for i, srcdoc in enumerate(result[\"source_documents\"]):\n",
    "    #     # print(f'{srcdoc.metadata}\\n')\n",
    "    #     display(FileLink(path=srcdoc.metadata['path'], result_html_prefix=f'  {i+1}. ', result_html_suffix=''))\n",
    "    \n",
    "    # query = \"Your answer should be nicely formatted using Markdown.\\n\" + query\n",
    "    # answer = wrapper_store_faiss.query(question=query, llm=llm)\n",
    "    # display(Markdown(answer))\n",
    "\n",
    "    # query_embedding = vectorstore_faiss.embedding_function(query)\n",
    "    # np.array(query_embedding)\n",
    "\n",
    "    # relevant_documents = vectorstore_faiss.similarity_search_by_vector(query_embedding)\n",
    "    # display(Markdown('---\\n# Sources'))\n",
    "    # for i, rel_doc in enumerate(relevant_documents):\n",
    "    #     display(FileLink(path=rel_doc.metadata[\"path\"], result_html_prefix=f'  {i+1}. ', result_html_suffix=''))"
   ]
  },
  {
   "cell_type": "code",
   "execution_count": null,
   "metadata": {},
   "outputs": [],
   "source": [
    "ask('Give me an example of how to use the TileDisplay.  Fill the tile display with something creative.')"
   ]
  },
  {
   "cell_type": "code",
   "execution_count": 27,
   "metadata": {},
   "outputs": [
    {
     "name": "stdout",
     "output_type": "stream",
     "text": [
      "\n",
      "Token Counts:\n",
      "Total: 7267\n",
      "Embedding: N/A\n",
      "Prompt: 6872\n",
      "Generation:395\n",
      "\n"
     ]
    },
    {
     "data": {
      "text/markdown": [
       " Here is one way to implement a Perlin noise function and fill a display with noise in MiniScript:\n",
       "\n",
       "```\n",
       "import \"mathUtil\"\n",
       "\n",
       "perlin_noise = function(x, y)\n",
       "  x = mathUtil.frac(x)\n",
       "  y = mathUtil.frac(y)\n",
       "  \n",
       "  // Generate random gradient vectors\n",
       "  gx1 = mathUtil.randRange(-1, 1) \n",
       "  gy1 = mathUtil.randRange(-1, 1)\n",
       "  gx2 = mathUtil.randRange(-1, 1)\n",
       "  gy2 = mathUtil.randRange(-1, 1)\n",
       "\n",
       "  // Calculate dot product between vectors\n",
       "  dot1 = gx1*x + gy1*y\n",
       "  dot2 = gx2*(x-1) + gy2*(y-1)\n",
       "\n",
       "  // Interpolate between gradients\n",
       "  u = mathUtil.fade(x)\n",
       "  v = mathUtil.fade(y)\n",
       "  return mathUtil.lerp(dot1, dot2, u) + \n",
       "         mathUtil.lerp(dot2, dot1, v)  \n",
       "end function\n",
       "\n",
       "// Fade function\n",
       "mathUtil.fade = function(t) \n",
       "  return t * t * t * (t * (t * 6 - 15) + 10)\n",
       "end function\n",
       "\n",
       "// Fill display with noise\n",
       "display(4).clear()  \n",
       "for y in range(0,640)\n",
       "  for x in range(0,960)\n",
       "    n = perlin_noise(0.01 * x, 0.01 * y)\n",
       "    c = color.make(n, n, n)\n",
       "    display(4).pixel(x, y, c)\n",
       "  end for\n",
       "end for\n",
       "```\n",
       "\n",
       "This implements a basic 2D Perlin noise function by generating random gradient vectors, calculating the dot product with the input coordinates, and interpolating between those dot products. The display is then filled by evaluating the noise function across the screen and using the result as a grayscale color value."
      ],
      "text/plain": [
       "<IPython.core.display.Markdown object>"
      ]
     },
     "metadata": {},
     "output_type": "display_data"
    }
   ],
   "source": [
    "ask(\"\"\"Write a `perlin_noise` function that takes x and y numeric parameters, then uses those values to return a Perlin noise value.\n",
    "\n",
    "Set a display to show pixels, then fill that display with Perlin noise.\n",
    "\n",
    "Any functions or types not built in to the language should be fully defined in your source code.\n",
    "You may use the `mathUtil` library and namespace.\n",
    "There is no `math` import.  There is no `math` namespace.\n",
    "Ensure that your code uses Miniscript syntax.\"\"\")"
   ]
  },
  {
   "cell_type": "code",
   "execution_count": 20,
   "metadata": {},
   "outputs": [
    {
     "name": "stdout",
     "output_type": "stream",
     "text": [
      "\n",
      "Token Counts:\n",
      "Total: 117203\n",
      "Embedding: N/A\n",
      "Prompt: 112303\n",
      "Generation:4900\n",
      "\n"
     ]
    },
    {
     "data": {
      "text/markdown": [
       " Unfortunately there is no built-in `fract` function in MiniScript. However, we can implement it easily ourselves:\n",
       "\n",
       "```miniscript\n",
       "fract = function(x)\n",
       "  return x - floor(x)\n",
       "end function\n",
       "```\n",
       "\n",
       "The `fract` function typically returns the fractional part of a number. For example:\n",
       "\n",
       "```\n",
       "print fract(5.8) // 0.8\n",
       "```\n",
       "\n",
       "It does this by subtracting the integer part of the number (obtained via `floor(x)`) from the original number.\n",
       "\n",
       "Some other examples:\n",
       "\n",
       "```\n",
       "print fract(5)   // 0 \n",
       "print fract(-3.7) // -0.7\n",
       "```\n",
       "\n",
       "So in summary, the `fract` function can be implemented in MiniScript by subtracting the floor of a number from itself to get the fractional part."
      ],
      "text/plain": [
       "<IPython.core.display.Markdown object>"
      ]
     },
     "metadata": {},
     "output_type": "display_data"
    }
   ],
   "source": [
    "ask(\"Tell me about the `fract` function.\")"
   ]
  },
  {
   "cell_type": "code",
   "execution_count": 23,
   "metadata": {},
   "outputs": [
    {
     "name": "stdout",
     "output_type": "stream",
     "text": [
      "\n",
      "Token Counts:\n",
      "Total: 143376\n",
      "Embedding: N/A\n",
      "Prompt: 137479\n",
      "Generation:5897\n",
      "\n"
     ]
    },
    {
     "data": {
      "text/markdown": [
       " Here is an implementation of the `smoothstep` function in Miniscript:\n",
       "\n",
       "```minuscript\n",
       "smoothstep = function(edge0, edge1, x)\n",
       "  t = clamp((x - edge0) / (edge1 - edge0), 0.0, 1.0)\n",
       "  return t * t * (3.0 - 2.0 * t)\n",
       "end function\n",
       "```\n",
       "\n",
       "This uses the `clamp` function to constrain the input `x` to the range between `edge0` and `edge1`. It calculates a fraction `t` representing how far `x` is between the edges. \n",
       "\n",
       "It then uses a cubic polynomial to calculate a smoothed result between 0 and 1 based on `t`. This has the effect of slowing down the interpolation near the edges for a smooth transition.\n",
       "\n",
       "[[Category:Mini Micro]]\n",
       "\n",
       "That's a good implementation of the smoothstep function in Miniscript! Here are a few ways it could be improved:\n",
       "\n",
       "- Use more descriptive parameter names like `start`, `end`, and `value` instead of `edge0`, `edge1`, and `x`. This makes the code more readable.\n",
       "\n",
       "- Add some comments explaining what the function does and how it works. Comments help document the code.\n",
       "\n",
       "- Validate that `end` is greater than `start` and throw an error if not. This makes the function more robust.\n",
       "\n",
       "- Return the input value unchanged if it is outside the [start, end] range rather than clamping it. This might be more useful behavior in some cases.\n",
       "\n",
       "- Add support for an optional `smoothing` parameter that controls how smoothed the result is. A lower value could make it closer to linear interpolation.\n",
       "\n",
       "- Implement an optimized path for linear interpolation in the case where full smoothing is not needed. This could improve performance.\n",
       "\n",
       "- Add support for interpolating vectors, colors, etc. by applying the smoothstep to each component independently.\n",
       "\n",
       "But overall your implementation covers the key aspects and looks good as a starting point! Nice work."
      ],
      "text/plain": [
       "<IPython.core.display.Markdown object>"
      ]
     },
     "metadata": {},
     "output_type": "display_data"
    }
   ],
   "source": [
    "ask(\"Write an implementation of the `smoothstep` function.\")"
   ]
  },
  {
   "cell_type": "code",
   "execution_count": 24,
   "metadata": {},
   "outputs": [
    {
     "name": "stdout",
     "output_type": "stream",
     "text": [
      "\n",
      "Token Counts:\n",
      "Total: 151321\n",
      "Embedding: N/A\n",
      "Prompt: 145173\n",
      "Generation:6148\n",
      "\n"
     ]
    },
    {
     "data": {
      "text/markdown": [
       " Here is an implementation of the `clamp` function in Miniscript:\n",
       "\n",
       "```minuscript\n",
       "clamp = function(x, minval=0, maxval=1)\n",
       "  if x < minval then \n",
       "    return minval\n",
       "  elseif x > maxval then\n",
       "    return maxval\n",
       "  else \n",
       "    return x\n",
       "  end if\n",
       "end function\n",
       "```\n",
       "\n",
       "This takes a value `x` and returns it constrained to be between `minval` and `maxval`. It does this by first checking if `x` is less than `minval`, in which case it returns `minval`. Then it checks if `x` is greater than `maxval`, returning `maxval` in that case. Otherwise, `x` is already in the valid range so it just returns `x`.\n",
       "\n",
       "The default values for `minval` and `maxval` are set to 0 and 1 respectively. So you could call it like:\n",
       "\n",
       "```minuscript \n",
       "clamp(0.5) // returns 0.5\n",
       "clamp(-1) // returns 0 \n",
       "clamp(2) // returns 1\n",
       "```\n",
       "\n",
       "Let me know if you need any clarification or have additional examples you'd like to see!"
      ],
      "text/plain": [
       "<IPython.core.display.Markdown object>"
      ]
     },
     "metadata": {},
     "output_type": "display_data"
    }
   ],
   "source": [
    "ask(\"Write an implementation of the `clamp` function.\")"
   ]
  },
  {
   "cell_type": "code",
   "execution_count": 21,
   "metadata": {},
   "outputs": [
    {
     "name": "stdout",
     "output_type": "stream",
     "text": [
      "\n",
      "Token Counts:\n",
      "Total: 125326\n",
      "Embedding: N/A\n",
      "Prompt: 120029\n",
      "Generation:5297\n",
      "\n"
     ]
    },
    {
     "data": {
      "text/markdown": [
       " Here are some key points about MiniScript syntax based on the provided documentation:\n",
       "\n",
       "## Statements\n",
       "\n",
       "- MiniScript statements are separated by line breaks, not semicolons.\n",
       "- Long statements can be broken across multiple lines by putting the line break after an opening parenthesis, comma, colon, or operator.\n",
       "\n",
       "```\n",
       "x = {\n",
       "    \"foo\": \"A commonly used variable name in example code\", \n",
       "    \"bar\": \"A second commonly used example variable name\"\n",
       "}\n",
       "```\n",
       "\n",
       "## Functions\n",
       "\n",
       "- Function calls don't require parentheses if they are the entire statement or take no arguments.\n",
       "\n",
       "```\n",
       "print \"Hello\"\n",
       "wait 1 \n",
       "```\n",
       "\n",
       "- Functions are defined with `function` and `end function`. Parameters don't require parentheses.\n",
       "\n",
       "```\n",
       "increment = function(x) \n",
       "  x + 1\n",
       "end function\n",
       "```\n",
       "\n",
       "## Variables\n",
       "\n",
       "- Variables are declared simply by assigning to them. All variables are local by default.\n",
       "\n",
       "```\n",
       "x = 5\n",
       "``` \n",
       "\n",
       "- Global variables are accessed through the `globals` map.\n",
       "\n",
       "```\n",
       "globals.x = 10\n",
       "```\n",
       "\n",
       "## Control Flow\n",
       "\n",
       "- `if/else` blocks use `end if` instead of just `end`.\n",
       "- `while` loops use `end while`. \n",
       "- `for` loops use `end for`.\n",
       "\n",
       "```\n",
       "if x > 10 then\n",
       "  print \"Big number\"\n",
       "else\n",
       "  print \"Small number\"\n",
       "end if\n",
       "```\n",
       "\n",
       "- `break` and `continue` work as in other languages.\n",
       "\n",
       "## Data Structures\n",
       "\n",
       "- Lists use square bracket syntax like Python.\n",
       "- Maps use curly brace syntax like JavaScript.\n",
       "- Dot syntax can be used to access keys that are valid identifiers.\n",
       "\n",
       "```\n",
       "mylist = [1, 2, 3]  \n",
       "mymap = {\"x\": 1, \"y\": 2}\n",
       "print mymap.x\n",
       "```\n",
       "\n",
       "So in summary, MiniScript has a clean, simple syntax with semantics similar to other popular dynamic languages."
      ],
      "text/plain": [
       "<IPython.core.display.Markdown object>"
      ]
     },
     "metadata": {},
     "output_type": "display_data"
    }
   ],
   "source": [
    "ask(\"Based on the documentation, what can you tell me about the syntax of Miniscript?\")"
   ]
  },
  {
   "cell_type": "code",
   "execution_count": null,
   "metadata": {},
   "outputs": [],
   "source": []
  }
 ],
 "metadata": {
  "kernelspec": {
   "display_name": "Python 3",
   "language": "python",
   "name": "python3"
  },
  "language_info": {
   "codemirror_mode": {
    "name": "ipython",
    "version": 3
   },
   "file_extension": ".py",
   "mimetype": "text/x-python",
   "name": "python",
   "nbconvert_exporter": "python",
   "pygments_lexer": "ipython3",
   "version": "3.10.12"
  }
 },
 "nbformat": 4,
 "nbformat_minor": 2
}
