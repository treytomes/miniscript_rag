{
 "cells": [
  {
   "cell_type": "markdown",
   "metadata": {},
   "source": [
    "# Wiki Download\n",
    "\n",
    "Use the Mediawiki API to download all of the content from the Miniscript wiki."
   ]
  },
  {
   "cell_type": "code",
   "execution_count": 1,
   "metadata": {},
   "outputs": [
    {
     "name": "stdout",
     "output_type": "stream",
     "text": [
      "Defaulting to user installation because normal site-packages is not writeable\n",
      "Requirement already satisfied: requests in /home/trey/.local/lib/python3.10/site-packages (2.31.0)\n",
      "Requirement already satisfied: charset-normalizer<4,>=2 in /home/trey/.local/lib/python3.10/site-packages (from requests) (3.3.0)\n",
      "Requirement already satisfied: idna<4,>=2.5 in /home/trey/.local/lib/python3.10/site-packages (from requests) (3.4)\n",
      "Requirement already satisfied: urllib3<3,>=1.21.1 in /home/trey/.local/lib/python3.10/site-packages (from requests) (2.0.6)\n",
      "Requirement already satisfied: certifi>=2017.4.17 in /home/trey/.local/lib/python3.10/site-packages (from requests) (2023.7.22)\n",
      "Note: you may need to restart the kernel to use updated packages.\n",
      "Defaulting to user installation because normal site-packages is not writeable\n",
      "Collecting GitPython\n",
      "  Downloading GitPython-3.1.40-py3-none-any.whl.metadata (12 kB)\n",
      "Collecting gitdb<5,>=4.0.1 (from GitPython)\n",
      "  Downloading gitdb-4.0.11-py3-none-any.whl.metadata (1.2 kB)\n",
      "Collecting smmap<6,>=3.0.1 (from gitdb<5,>=4.0.1->GitPython)\n",
      "  Downloading smmap-5.0.1-py3-none-any.whl.metadata (4.3 kB)\n",
      "Downloading GitPython-3.1.40-py3-none-any.whl (190 kB)\n",
      "\u001b[2K   \u001b[90m━━━━━━━━━━━━━━━━━━━━━━━━━━━━━━━━━━━━━━━\u001b[0m \u001b[32m190.6/190.6 kB\u001b[0m \u001b[31m568.6 kB/s\u001b[0m eta \u001b[36m0:00:00\u001b[0m \u001b[36m0:00:01\u001b[0mm\n",
      "\u001b[?25hDownloading gitdb-4.0.11-py3-none-any.whl (62 kB)\n",
      "\u001b[2K   \u001b[90m━━━━━━━━━━━━━━━━━━━━━━━━━━━━━━━━━━━━━━━━\u001b[0m \u001b[32m62.7/62.7 kB\u001b[0m \u001b[31m161.5 kB/s\u001b[0m eta \u001b[36m0:00:00\u001b[0ma \u001b[36m0:00:01\u001b[0m\n",
      "\u001b[?25hDownloading smmap-5.0.1-py3-none-any.whl (24 kB)\n",
      "Installing collected packages: smmap, gitdb, GitPython\n",
      "Successfully installed GitPython-3.1.40 gitdb-4.0.11 smmap-5.0.1\n",
      "Note: you may need to restart the kernel to use updated packages.\n"
     ]
    }
   ],
   "source": [
    "%pip install requests\n",
    "%pip install GitPython"
   ]
  },
  {
   "cell_type": "code",
   "execution_count": 3,
   "metadata": {},
   "outputs": [],
   "source": [
    "# Import all the things!\n",
    "\n",
    "import git\n",
    "import os\n",
    "import requests\n",
    "from urllib.parse import urljoin"
   ]
  },
  {
   "cell_type": "code",
   "execution_count": 5,
   "metadata": {},
   "outputs": [],
   "source": [
    "def download_mediawiki_content(url, output_folder):\n",
    "    api_url = urljoin(url, \"w/api.php\")\n",
    "    print(f\"Connecting to API at {api_url}.\")\n",
    "\n",
    "    # Get a list of all pages\n",
    "    params = {\n",
    "        'action': 'query',\n",
    "        'format': 'json',\n",
    "        'list': 'allpages',\n",
    "        'aplimit': 'max'\n",
    "    }\n",
    "\n",
    "    response = requests.get(api_url, params=params)\n",
    "    data = response.json()\n",
    "\n",
    "    # Download each page content\n",
    "    for page in data['query']['allpages']:\n",
    "        page_title = page['title']\n",
    "        page_params = {\n",
    "            'action': 'query',\n",
    "            'format': 'json',\n",
    "            'titles': page_title,\n",
    "            'prop': 'revisions',\n",
    "            'rvprop': 'content'\n",
    "        }\n",
    "\n",
    "        page_response = requests.get(api_url, params=page_params)\n",
    "        page_data = page_response.json()\n",
    "\n",
    "        # Save the content to a file\n",
    "        if 'pages' in page_data['query']:\n",
    "            file_path = f\"{output_folder}/{page_title}.txt\"\n",
    "            directory = os.path.dirname(file_path)\n",
    "            # Check if the directory already exists\n",
    "            if not os.path.exists(directory):\n",
    "                # Create the directory and its parents if they don't exist\n",
    "                os.makedirs(directory)\n",
    "\n",
    "            page_content = next(iter(page_data['query']['pages'].values()))['revisions'][0]['*']\n",
    "            with open(file_path, 'w', encoding='utf-8') as file:\n",
    "                file.write(page_content)\n",
    "\n",
    "def download_git_repository(repo_url, destination_folder):\n",
    "    # Clone the Git repository to the specified destination folder\n",
    "    repo = git.Repo.clone_from(repo_url, destination_folder)\n",
    "\n",
    "def download_other_content(url, output_folder):\n",
    "    filename = os.path.basename(url)\n",
    "    response = requests.get(url)\n",
    "    page_content = response.text\n",
    "    \n",
    "    file_path = f\"{output_folder}/{filename}\"\n",
    "    with open(file_path, 'w', encoding='utf-8') as file:\n",
    "        file.write(page_content)\n",
    "\n",
    "def ensure_output_folder(output_folder):\n",
    "    # Check if the directory already exists\n",
    "    if not os.path.exists(output_folder):\n",
    "        # Create the directory and its parents if they don't exist\n",
    "        os.makedirs(output_folder)\n",
    "\n",
    "if __name__ == \"__main__\":\n",
    "    output_folder = \"./data/docs\"\n",
    "    ensure_output_folder(output_folder)\n",
    "    #download_mediawiki_content(\"https://miniscript.org\", \"./data/docs/wiki\")\n",
    "    #download_other_content(\"https://raw.githubusercontent.com/JoeStrout/miniscript/master/QuickRef.md\", output_folder)\n",
    "    #download_other_content(\"https://miniscript.org/files/MiniScript-Manual.pdf\", output_folder)\n",
    "    #download_git_repository(\"git@github.com:treytomes/micro-hack.git\", os.path.join(output_folder, \"micro-hack\"))\n",
    "    download_git_repository(\"git@github.com:JoeStrout/minimicro-sysdisk.git\", os.path.join(output_folder, \"micromicro-sysdisk\"))\n"
   ]
  },
  {
   "cell_type": "code",
   "execution_count": null,
   "metadata": {},
   "outputs": [],
   "source": []
  }
 ],
 "metadata": {
  "kernelspec": {
   "display_name": "Python 3",
   "language": "python",
   "name": "python3"
  },
  "language_info": {
   "codemirror_mode": {
    "name": "ipython",
    "version": 3
   },
   "file_extension": ".py",
   "mimetype": "text/x-python",
   "name": "python",
   "nbconvert_exporter": "python",
   "pygments_lexer": "ipython3",
   "version": "3.10.12"
  }
 },
 "nbformat": 4,
 "nbformat_minor": 2
}
